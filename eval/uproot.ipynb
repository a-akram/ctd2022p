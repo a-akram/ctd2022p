{
 "cells": [
  {
   "cell_type": "markdown",
   "id": "0e9f86fe-4d9c-40fb-bee8-1ee2807600e8",
   "metadata": {},
   "source": [
    "## Verify UpROOT"
   ]
  },
  {
   "cell_type": "code",
   "execution_count": 1,
   "id": "0927afff-b907-45a5-8538-9c0659341df7",
   "metadata": {},
   "outputs": [],
   "source": [
    "import sys, os, glob, yaml"
   ]
  },
  {
   "cell_type": "code",
   "execution_count": 2,
   "id": "28a82101-8d76-4122-b3c3-2964f75a4e78",
   "metadata": {},
   "outputs": [],
   "source": [
    "import numpy as np\n",
    "import pandas as pd"
   ]
  },
  {
   "cell_type": "code",
   "execution_count": 3,
   "id": "4593d6d6-da00-423e-adb2-eee42578b22b",
   "metadata": {},
   "outputs": [],
   "source": [
    "import torch\n",
    "from torch_geometric.data import Data\n",
    "import itertools"
   ]
  },
  {
   "cell_type": "code",
   "execution_count": 4,
   "id": "4d3970f6-8fa3-4454-8e28-587c0d2d39a9",
   "metadata": {},
   "outputs": [],
   "source": [
    "import uproot"
   ]
  },
  {
   "cell_type": "code",
   "execution_count": 5,
   "id": "bd959bb2-f097-4a19-a4cb-77be47b5340a",
   "metadata": {},
   "outputs": [],
   "source": [
    "device = 'cuda' if torch.cuda.is_available() else 'cpu'"
   ]
  },
  {
   "cell_type": "code",
   "execution_count": 6,
   "id": "49f65488-ebe6-420d-8d46-c276bd7d3031",
   "metadata": {},
   "outputs": [],
   "source": [
    "inputdir=\"../run_all/seg_processed\""
   ]
  },
  {
   "cell_type": "code",
   "execution_count": 7,
   "id": "12197680-8d75-4f0e-a14f-3a9b296b46b3",
   "metadata": {},
   "outputs": [],
   "source": [
    "csvfiles = sorted(glob.glob(os.path.join(inputdir, \"*.csv\")))\n",
    "rootfiles = sorted(glob.glob(os.path.join(inputdir, \"*.root\")))"
   ]
  },
  {
   "cell_type": "code",
   "execution_count": 8,
   "id": "139aa7ff-d494-4f85-abc9-f58f461e17ff",
   "metadata": {},
   "outputs": [
    {
     "data": {
      "text/plain": [
       "'../run_all/seg_processed/5000.csv'"
      ]
     },
     "execution_count": 8,
     "metadata": {},
     "output_type": "execute_result"
    }
   ],
   "source": [
    "csvfiles[0]"
   ]
  },
  {
   "cell_type": "code",
   "execution_count": 9,
   "id": "f48d3e28-8b88-4c7f-9973-d226a6621a4f",
   "metadata": {},
   "outputs": [
    {
     "data": {
      "text/plain": [
       "'../run_all/seg_processed/5000.root'"
      ]
     },
     "execution_count": 9,
     "metadata": {},
     "output_type": "execute_result"
    }
   ],
   "source": [
    "rootfiles[0]"
   ]
  },
  {
   "cell_type": "markdown",
   "id": "f7232680-1a17-4251-84e4-0e3f74468321",
   "metadata": {},
   "source": [
    "### Load Files"
   ]
  },
  {
   "cell_type": "code",
   "execution_count": 10,
   "id": "9667836b-d090-49e2-830f-f4732cda72ed",
   "metadata": {},
   "outputs": [],
   "source": [
    "df = pd.read_csv(csvfiles[0],index_col=False)"
   ]
  },
  {
   "cell_type": "code",
   "execution_count": 11,
   "id": "c4220d05-af3c-4109-ace6-6983c89d18c7",
   "metadata": {},
   "outputs": [
    {
     "data": {
      "text/html": [
       "<div>\n",
       "<style scoped>\n",
       "    .dataframe tbody tr th:only-of-type {\n",
       "        vertical-align: middle;\n",
       "    }\n",
       "\n",
       "    .dataframe tbody tr th {\n",
       "        vertical-align: top;\n",
       "    }\n",
       "\n",
       "    .dataframe thead th {\n",
       "        text-align: right;\n",
       "    }\n",
       "</style>\n",
       "<table border=\"1\" class=\"dataframe\">\n",
       "  <thead>\n",
       "    <tr style=\"text-align: right;\">\n",
       "      <th></th>\n",
       "      <th>hit_id</th>\n",
       "      <th>track_id</th>\n",
       "    </tr>\n",
       "  </thead>\n",
       "  <tbody>\n",
       "    <tr>\n",
       "      <th>0</th>\n",
       "      <td>51</td>\n",
       "      <td>0</td>\n",
       "    </tr>\n",
       "    <tr>\n",
       "      <th>1</th>\n",
       "      <td>77</td>\n",
       "      <td>1</td>\n",
       "    </tr>\n",
       "    <tr>\n",
       "      <th>2</th>\n",
       "      <td>102</td>\n",
       "      <td>2</td>\n",
       "    </tr>\n",
       "    <tr>\n",
       "      <th>3</th>\n",
       "      <td>26</td>\n",
       "      <td>3</td>\n",
       "    </tr>\n",
       "    <tr>\n",
       "      <th>4</th>\n",
       "      <td>152</td>\n",
       "      <td>4</td>\n",
       "    </tr>\n",
       "  </tbody>\n",
       "</table>\n",
       "</div>"
      ],
      "text/plain": [
       "   hit_id  track_id\n",
       "0      51         0\n",
       "1      77         1\n",
       "2     102         2\n",
       "3      26         3\n",
       "4     152         4"
      ]
     },
     "execution_count": 11,
     "metadata": {},
     "output_type": "execute_result"
    }
   ],
   "source": [
    "df.head()"
   ]
  },
  {
   "cell_type": "code",
   "execution_count": 12,
   "id": "bc42a4c7-658c-4fbf-a3aa-f685d1ef9686",
   "metadata": {},
   "outputs": [],
   "source": [
    "events = uproot.open(rootfiles[0])"
   ]
  },
  {
   "cell_type": "code",
   "execution_count": 13,
   "id": "d708646b-df16-4d4f-8c56-c391096fa25d",
   "metadata": {},
   "outputs": [
    {
     "name": "stdout",
     "output_type": "stream",
     "text": [
      "name                 | typename                 | interpretation                \n",
      "---------------------+--------------------------+-------------------------------\n",
      "index                | int64_t                  | AsDtype('>i8')\n",
      "hit_id               | int32_t                  | AsDtype('>i4')\n",
      "track_id             | int64_t                  | AsDtype('>i8')\n"
     ]
    }
   ],
   "source": [
    "events[\"TrackML\"].show()"
   ]
  },
  {
   "cell_type": "code",
   "execution_count": 14,
   "id": "ee21426a-7c0c-4cca-942d-833e93443827",
   "metadata": {},
   "outputs": [
    {
     "data": {
      "text/plain": [
       "['TrackML;1']"
      ]
     },
     "execution_count": 14,
     "metadata": {},
     "output_type": "execute_result"
    }
   ],
   "source": [
    "events.keys()"
   ]
  },
  {
   "cell_type": "code",
   "execution_count": 15,
   "id": "a6c08fc1-2528-4c64-a151-316a35ee1c80",
   "metadata": {},
   "outputs": [
    {
     "data": {
      "text/plain": [
       "[<TTree 'TrackML' (3 branches) at 0x7fef9bc260d0>]"
      ]
     },
     "execution_count": 15,
     "metadata": {},
     "output_type": "execute_result"
    }
   ],
   "source": [
    "events.values()"
   ]
  },
  {
   "cell_type": "code",
   "execution_count": 16,
   "id": "d23a9ebe-c50c-4a01-b5cb-a17c86f4d653",
   "metadata": {},
   "outputs": [],
   "source": [
    "# events.typenames()"
   ]
  },
  {
   "cell_type": "code",
   "execution_count": 17,
   "id": "4364a0c8-6bbf-4cce-8b0d-f0fe75c54862",
   "metadata": {},
   "outputs": [
    {
     "data": {
      "text/plain": [
       "{'TrackML;1': 'TTree'}"
      ]
     },
     "execution_count": 17,
     "metadata": {},
     "output_type": "execute_result"
    }
   ],
   "source": [
    "events.classnames()"
   ]
  },
  {
   "cell_type": "code",
   "execution_count": 18,
   "id": "0ee37fc3-6aa9-4578-abe6-88f092d7d9d7",
   "metadata": {},
   "outputs": [],
   "source": [
    "hit_id = events[\"TrackML\"][\"hit_id\"].array(library=\"pd\")"
   ]
  },
  {
   "cell_type": "code",
   "execution_count": 19,
   "id": "cd14dba0-3094-48a4-b7bc-6df1dbffa06d",
   "metadata": {},
   "outputs": [
    {
     "data": {
      "text/plain": [
       "pandas.core.series.Series"
      ]
     },
     "execution_count": 19,
     "metadata": {},
     "output_type": "execute_result"
    }
   ],
   "source": [
    "type(hit_id)"
   ]
  },
  {
   "cell_type": "code",
   "execution_count": 20,
   "id": "b705d7ce-f39c-483b-a105-2bda92305fc5",
   "metadata": {},
   "outputs": [
    {
     "data": {
      "text/plain": [
       "0      True\n",
       "1      True\n",
       "2      True\n",
       "3      True\n",
       "4      True\n",
       "       ... \n",
       "143    True\n",
       "144    True\n",
       "145    True\n",
       "146    True\n",
       "147    True\n",
       "Length: 148, dtype: bool"
      ]
     },
     "execution_count": 20,
     "metadata": {},
     "output_type": "execute_result"
    }
   ],
   "source": [
    "hit_id == df.hit_id"
   ]
  },
  {
   "cell_type": "code",
   "execution_count": 21,
   "id": "33c8e2f2-99d4-4fde-b24f-62690a39a64b",
   "metadata": {},
   "outputs": [],
   "source": [
    "hit_id = events[\"TrackML\"][\"hit_id\"].array(library=\"np\")"
   ]
  },
  {
   "cell_type": "code",
   "execution_count": 22,
   "id": "5d53ce5d-d8d8-4b46-ba87-99d3b55cb6cb",
   "metadata": {},
   "outputs": [
    {
     "data": {
      "text/plain": [
       "numpy.ndarray"
      ]
     },
     "execution_count": 22,
     "metadata": {},
     "output_type": "execute_result"
    }
   ],
   "source": [
    "type(hit_id)"
   ]
  },
  {
   "cell_type": "code",
   "execution_count": null,
   "id": "43745319-e661-4d7d-abe0-8c8baaa265d2",
   "metadata": {},
   "outputs": [],
   "source": []
  }
 ],
 "metadata": {
  "kernelspec": {
   "display_name": "Python 3 (ipykernel)",
   "language": "python",
   "name": "python3"
  },
  "language_info": {
   "codemirror_mode": {
    "name": "ipython",
    "version": 3
   },
   "file_extension": ".py",
   "mimetype": "text/x-python",
   "name": "python",
   "nbconvert_exporter": "python",
   "pygments_lexer": "ipython3",
   "version": "3.8.13"
  }
 },
 "nbformat": 4,
 "nbformat_minor": 5
}
