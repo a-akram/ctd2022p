{
 "cells": [
  {
   "cell_type": "markdown",
   "metadata": {},
   "source": [
    "## _Track Evaluation_\n",
    "\n",
    "- Running _`trkx_from_gnn.py`_ produces recostucted tracks (track candiates)\n",
    "- Running _`trkx_reco_eval.py`_ gives reconstruction evaluation: _`eff, fake rate, dup. rate, etc`_\n",
    "\n",
    "Let's perform inspection after track evaluation."
   ]
  },
  {
   "cell_type": "code",
   "execution_count": null,
   "metadata": {},
   "outputs": [],
   "source": [
    "import sys, os, glob, yaml"
   ]
  },
  {
   "cell_type": "code",
   "execution_count": null,
   "metadata": {},
   "outputs": [],
   "source": [
    "import numpy as np\n",
    "import pandas as pd\n",
    "import matplotlib as mpl\n",
    "import matplotlib.pyplot as plt\n",
    "%matplotlib inline"
   ]
  },
  {
   "cell_type": "code",
   "execution_count": null,
   "metadata": {},
   "outputs": [],
   "source": [
    "import pprint\n",
    "import seaborn as sns\n",
    "import trackml.dataset"
   ]
  },
  {
   "cell_type": "code",
   "execution_count": null,
   "metadata": {},
   "outputs": [],
   "source": [
    "import torch\n",
    "from torch_geometric.data import Data\n",
    "import itertools"
   ]
  },
  {
   "cell_type": "code",
   "execution_count": null,
   "metadata": {},
   "outputs": [],
   "source": [
    "sys.path.append('..')"
   ]
  },
  {
   "cell_type": "code",
   "execution_count": null,
   "metadata": {},
   "outputs": [],
   "source": [
    "device = 'cuda' if torch.cuda.is_available() else 'cpu'"
   ]
  },
  {
   "cell_type": "markdown",
   "metadata": {
    "tags": []
   },
   "source": [
    "## _A. Inspection of Epsilon in DBSCAN_\n",
    "\n",
    "1. Various $\\epsilon$ for DBSCAN in `trkx_from_gnn.py`\n",
    "2. Choose the best $\\epsilon$ based on _`eff, fake rate, dup. rate`_) after `trkx_reco_eval.py`\n",
    "\n",
    "**NOTE:** The $\\epsilon$ in DBSCAN is alternative to chosing a cut on the `edge_score`."
   ]
  },
  {
   "cell_type": "code",
   "execution_count": null,
   "metadata": {},
   "outputs": [],
   "source": [
    "epsilon = [0.015, 0.025, 0.050, 0.075, 0.1, 0.15, 0.2, 0.25, 0.35, 0.45, 0.55, 0.75, 0.85, 0.95, 1.0]"
   ]
  },
  {
   "cell_type": "code",
   "execution_count": null,
   "metadata": {},
   "outputs": [],
   "source": [
    "# Muons\n",
    "eff_phys = [88.2250, 88.8337, 89.6347, 90.1322, 90.4533, 90.9524, 91.2334, 91.1832, 88.4393, 85.1644, 83.5178, 81.4443, 80.1778, 77.6377, 0.7349]\n",
    "eff_tech = [89.8331, 90.4563, 91.2791, 91.7934, 92.1251, 92.6372, 92.9258, 92.8686, 90.0497, 86.7017, 85.0175, 82.9097, 81.6185, 79.0440, 0.7514]\n",
    "purity   = [97.2793, 97.4626, 97.7950, 98.0192, 98.2108, 98.5698, 98.8359, 98.9482, 98.0389, 96.9250, 96.3454, 95.6658, 95.2468, 94.4137, 5.9280]\n",
    "clones   = [14.9108, 14.2468, 13.3162, 12.7301, 12.2580, 11.4377, 10.4787, 9.0237, 4.5875, 2.3772, 1.7618, 1.3914, 1.3140, 1.2631, 0.1389]"
   ]
  },
  {
   "cell_type": "code",
   "execution_count": null,
   "metadata": {},
   "outputs": [],
   "source": [
    "# FWP:\n",
    "eff_phys = [87.2165, 87.3646, 87.4315, 87.4550, 87.3293, 87.0990, 86.8334, 86.5408, 85.4020, 84.0847, 82.9753, 80.6508, 78.4991, 73.2167, 16.5687]\n",
    "eff_tech = [96.6127, 96.7740, 96.8500, 96.8766, 96.7327, 96.4860, 96.1941, 95.8648, 94.5731, 93.1120, 91.8883, 89.3128, 86.9306, 81.1078, 18.6763]\n",
    "purity   = [99.3764, 99.4655, 99.5184, 99.5268, 99.5334, 99.5336, 99.5463, 99.5613, 99.6222, 99.4562, 99.2742, 98.2568, 98.7797, 96.8064, 47.7511]\n",
    "clones   = [7.0048, 6.1859, 5.2207, 4.6082, 4.2689, 3.7827, 3.4842, 3.1144, 2.2536, 1.6902, 1.4752, 1.2884, 1.2231, 1.1924, 0.0000]"
   ]
  },
  {
   "cell_type": "code",
   "execution_count": null,
   "metadata": {},
   "outputs": [],
   "source": [
    "# covert to ndarrays\n",
    "eff_phys = np.array(eff_phys)\n",
    "eff_tech = np.array(eff_tech)\n",
    "purity   = np.array(purity)\n",
    "clones   = np.array(clones)\n",
    "epsilon = np.array(epsilon)"
   ]
  },
  {
   "cell_type": "raw",
   "metadata": {},
   "source": [
    "len(e_list)==len(eff_list)"
   ]
  },
  {
   "cell_type": "raw",
   "metadata": {},
   "source": [
    "for i in range(len(e_list)):\n",
    "    print(\"epsilon: \", e_list[i])"
   ]
  },
  {
   "cell_type": "code",
   "execution_count": null,
   "metadata": {},
   "outputs": [],
   "source": [
    "# plt.style.use('ggplot')\n",
    "# mpl.rcParams.update(mpl.rcParamsDefault)"
   ]
  },
  {
   "cell_type": "code",
   "execution_count": null,
   "metadata": {},
   "outputs": [],
   "source": [
    "import matplotlib.ticker as ticker"
   ]
  },
  {
   "cell_type": "code",
   "execution_count": null,
   "metadata": {},
   "outputs": [],
   "source": [
    "# init subplots\n",
    "fig, ax = plt.subplots(nrows=1,ncols=1,figsize=(8,6))\n",
    "ax.plot(epsilon, purity, linestyle='-', linewidth=1.5, color='red', label=\"Tracking Purity\")\n",
    "ax.plot(epsilon, eff_phys, linestyle='-', linewidth=1.5, color='blue', label=\"Tracking Efficiency (Phys.)\")\n",
    "ax.plot(epsilon, eff_tech, linestyle='-', linewidth=1.5, color='orange', label=\"Tracking Efficiency (Tech.)\")\n",
    "ax.plot(epsilon, clones, linestyle='-', linewidth=1.5, color='green', label=\"Clone Rate\")\n",
    "\n",
    "plt.axvline(x=0.10, linewidth=0.5, color='k')\n",
    "plt.axvline(x=0.15, linewidth=0.5, color='magenta')\n",
    "plt.axvline(x=0.20, linewidth=0.5, color='k')\n",
    "#plt.axvline(x=0.25, linewidth=0.5, color='magenta')\n",
    "#plt.axvline(x=0.3, linewidth=0.5, color='magenta')\n",
    "\n",
    "# plotting params\n",
    "# ax.set_title('Track evaluation (efficiency vs epsilon)')\n",
    "ax.set_xlabel('epsilon', fontsize=20)\n",
    "#ax.set_ylabel('efficiency [%]', fontsize=20)\n",
    "ax.set_xlim(0, 0.95)\n",
    "# ax.set_ylim(0.0, 100)\n",
    "ax.set_yscale('log')\n",
    "\n",
    "start, end = ax.get_xlim()\n",
    "ax.xaxis.set_ticks(np.arange(start, end, 0.05))\n",
    "ax.xaxis.set_major_formatter(ticker.FormatStrFormatter('%0.2f'))\n",
    "\n",
    "\n",
    "ax.grid(False)\n",
    "ax.legend(fontsize=15, loc='best')\n",
    "fig.tight_layout()\n",
    "fig.savefig(\"fwp_epsilon_eff.pdf\")"
   ]
  },
  {
   "cell_type": "markdown",
   "metadata": {
    "tags": []
   },
   "source": [
    "## _B. Visualize Test Data_\n",
    "\n",
    "Inspect easy to difficult to reconstruct tracks. Choose 10 such events and use `score_cut=0.25`"
   ]
  },
  {
   "cell_type": "code",
   "execution_count": null,
   "metadata": {},
   "outputs": [],
   "source": [
    "from src.drawing import detector_layout, draw_proc_event"
   ]
  },
  {
   "cell_type": "code",
   "execution_count": null,
   "metadata": {},
   "outputs": [],
   "source": [
    "inputdir=\"../run_all/fwp_gnn_processed/pred\"\n",
    "proc_files = sorted(glob.glob(os.path.join(inputdir, \"*\")))"
   ]
  },
  {
   "cell_type": "code",
   "execution_count": null,
   "metadata": {},
   "outputs": [],
   "source": [
    "feature_data = torch.load(proc_files[0], map_location=device)"
   ]
  },
  {
   "cell_type": "code",
   "execution_count": null,
   "metadata": {},
   "outputs": [],
   "source": [
    "feature_data"
   ]
  },
  {
   "cell_type": "code",
   "execution_count": null,
   "metadata": {},
   "outputs": [],
   "source": [
    "event_id = int(os.path.basename(feature_data.event_file)[-4:])"
   ]
  },
  {
   "cell_type": "code",
   "execution_count": null,
   "metadata": {},
   "outputs": [],
   "source": [
    "event_id"
   ]
  },
  {
   "cell_type": "raw",
   "metadata": {},
   "source": [
    "mpl.rcParams.update(mpl.rcParamsDefault)"
   ]
  },
  {
   "cell_type": "raw",
   "metadata": {},
   "source": [
    "# save test event for visual inspection\n",
    "for i in range(1000):\n",
    "    feature_data = torch.load(proc_files[i], map_location=device)\n",
    "    draw_proc_event(feature_data, figsize=(8,8), save_fig=True);"
   ]
  },
  {
   "cell_type": "markdown",
   "metadata": {},
   "source": [
    "## _(C.) Post Analysis_\n",
    "\n",
    "- Read evaluation data"
   ]
  },
  {
   "cell_type": "code",
   "execution_count": null,
   "metadata": {},
   "outputs": [],
   "source": [
    "sys.path.append('..')"
   ]
  },
  {
   "cell_type": "code",
   "execution_count": null,
   "metadata": {},
   "outputs": [],
   "source": [
    "from src.drawing import detector_layout, draw_proc_event\n",
    "from src.utils_math import polar_to_cartesian"
   ]
  },
  {
   "cell_type": "code",
   "execution_count": null,
   "metadata": {},
   "outputs": [],
   "source": [
    "# select event index (glob will fetch events as a list)\n",
    "event_idx = 1"
   ]
  },
  {
   "cell_type": "markdown",
   "metadata": {
    "tags": []
   },
   "source": [
    "### _(1.) Read True Tracks_"
   ]
  },
  {
   "cell_type": "code",
   "execution_count": null,
   "metadata": {},
   "outputs": [],
   "source": [
    "# get list of true tracks (test dataset)\n",
    "inputdir=\"../run_all/fwp_gnn_processed/pred\"\n",
    "true_trkx = sorted(glob.glob(os.path.join(inputdir, \"*\")))"
   ]
  },
  {
   "cell_type": "code",
   "execution_count": null,
   "metadata": {},
   "outputs": [],
   "source": [
    "# event Data\n",
    "true_track = torch.load(true_trkx[event_idx], map_location=device)\n",
    "print(\"Length of Data: {}\".format(len(true_track)))"
   ]
  },
  {
   "cell_type": "code",
   "execution_count": null,
   "metadata": {},
   "outputs": [],
   "source": [
    "true_track"
   ]
  },
  {
   "cell_type": "code",
   "execution_count": null,
   "metadata": {},
   "outputs": [],
   "source": [
    "# hit features\n",
    "r, phi, ir = true_track.x.T"
   ]
  },
  {
   "cell_type": "code",
   "execution_count": null,
   "metadata": {},
   "outputs": [],
   "source": [
    "# spatial coordinate transform\n",
    "x, y = polar_to_cartesian(r.detach().numpy(), phi.detach().numpy())"
   ]
  },
  {
   "cell_type": "code",
   "execution_count": null,
   "metadata": {},
   "outputs": [],
   "source": [
    "# compensate scaling\n",
    "ir = ir.detach().numpy()*100"
   ]
  },
  {
   "cell_type": "code",
   "execution_count": null,
   "metadata": {},
   "outputs": [],
   "source": [
    "# plot true event\n",
    "fig, ax = detector_layout(figsize=(10,10))\n",
    "e_id = int(true_track.event_file[-10:])\n",
    "p_ids = np.unique(true_track.pid)\n",
    "\n",
    "for pid in p_ids:\n",
    "    idx = true_track.pid == pid\n",
    "    ax.plot(x[idx], y[idx], '-', linewidth=1.5)\n",
    "    ax.scatter(x[idx], y[idx], s=(ir[idx]*50), label='particle_id: {}'.format(int(pid)))\n",
    "\n",
    "ax.set_title('Azimuthal View of STT, EventID # {}'.format(e_id))\n",
    "ax.legend(fontsize=10, loc='best')\n",
    "fig.tight_layout()\n",
    "# fig.savefig(\"true_track.png\")"
   ]
  },
  {
   "cell_type": "markdown",
   "metadata": {
    "tags": []
   },
   "source": [
    "### _(2.) Read Reco Track_"
   ]
  },
  {
   "cell_type": "code",
   "execution_count": null,
   "metadata": {},
   "outputs": [],
   "source": [
    "inputdir=\"../run_all/fwp_gnn_segmenting/seg\"\n",
    "reco_trkx = sorted(glob.glob(os.path.join(inputdir, \"*\")))"
   ]
  },
  {
   "cell_type": "code",
   "execution_count": null,
   "metadata": {},
   "outputs": [],
   "source": [
    "print(\"Track Id: \", reco_trkx[event_idx])"
   ]
  },
  {
   "cell_type": "code",
   "execution_count": null,
   "metadata": {},
   "outputs": [],
   "source": [
    "reco_track = torch.load(reco_trkx[event_idx], map_location=device)\n",
    "print(\"Length of Data: {}\".format(len(reco_track)))"
   ]
  },
  {
   "cell_type": "code",
   "execution_count": null,
   "metadata": {},
   "outputs": [],
   "source": [
    "reco_track.head()"
   ]
  },
  {
   "cell_type": "code",
   "execution_count": null,
   "metadata": {},
   "outputs": [],
   "source": [
    "# plot reco event, here, (x,y,ir) comes from ture event. but idx is from reco event\n",
    "fig, ax = detector_layout(figsize=(10,10))\n",
    "e_id = e_id\n",
    "t_ids = np.unique(reco_track.track_id)\n",
    "\n",
    "for tid in t_ids:\n",
    "    idx = reco_track.track_id == tid\n",
    "    ax.plot(x[idx], y[idx], '-', linewidth=2)\n",
    "    ax.scatter(x[idx], y[idx], s=(ir[idx]*100), label='particle_id: {}'.format(tid))\n",
    "    \n",
    "ax.set_title('Azimuthal View of STT, EventID # {}'.format(e_id))\n",
    "ax.legend(fontsize=10, loc='best')\n",
    "fig.tight_layout()\n",
    "# fig.savefig(\"reco_track.png\")"
   ]
  },
  {
   "cell_type": "markdown",
   "metadata": {
    "tags": []
   },
   "source": [
    "### _(3.) Read Track Evaluation Data_"
   ]
  },
  {
   "cell_type": "code",
   "execution_count": null,
   "metadata": {},
   "outputs": [],
   "source": [
    "inputdir=\"../run_all/fwp_gnn_segmenting/eval\""
   ]
  },
  {
   "cell_type": "code",
   "execution_count": null,
   "metadata": {},
   "outputs": [],
   "source": [
    "evtid = int(os.path.split(reco_trkx[1006])[1])"
   ]
  },
  {
   "cell_type": "code",
   "execution_count": null,
   "metadata": {},
   "outputs": [],
   "source": [
    "print(\"evtid: {}\".format(evtid))"
   ]
  },
  {
   "cell_type": "code",
   "execution_count": null,
   "metadata": {},
   "outputs": [],
   "source": [
    "!./eval_reco_evt.sh $evtid"
   ]
  },
  {
   "cell_type": "code",
   "execution_count": null,
   "metadata": {},
   "outputs": [],
   "source": [
    "# path to HDF5 Store\n",
    "hdf5_path = inputdir+\"/{}_particles.h5\".format(evtid)\n",
    "print(hdf5_path)"
   ]
  },
  {
   "cell_type": "code",
   "execution_count": null,
   "metadata": {},
   "outputs": [],
   "source": [
    "df = pd.read_hdf(hdf5_path)\n",
    "print(\"Length of Data: {}\".format(len(df)))"
   ]
  },
  {
   "cell_type": "code",
   "execution_count": null,
   "metadata": {},
   "outputs": [],
   "source": [
    "df.head()"
   ]
  },
  {
   "cell_type": "code",
   "execution_count": null,
   "metadata": {},
   "outputs": [],
   "source": [
    "# Read the Summary of Evaluation\n",
    "sum_path = inputdir+\"/{}_summary.txt\".format(evtid)\n",
    "print(sum_path)"
   ]
  },
  {
   "cell_type": "code",
   "execution_count": null,
   "metadata": {},
   "outputs": [],
   "source": [
    "with open(sum_path) as f:\n",
    "    contents = f.read()\n",
    "    print(contents)"
   ]
  },
  {
   "cell_type": "code",
   "execution_count": null,
   "metadata": {},
   "outputs": [],
   "source": []
  }
 ],
 "metadata": {
  "kernelspec": {
   "display_name": "Python 3 (ipykernel)",
   "language": "python",
   "name": "python3"
  },
  "language_info": {
   "codemirror_mode": {
    "name": "ipython",
    "version": 3
   },
   "file_extension": ".py",
   "mimetype": "text/x-python",
   "name": "python",
   "nbconvert_exporter": "python",
   "pygments_lexer": "ipython3",
   "version": "3.8.12"
  }
 },
 "nbformat": 4,
 "nbformat_minor": 4
}
