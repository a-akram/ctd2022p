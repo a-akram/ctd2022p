{
 "cells": [
  {
   "cell_type": "markdown",
   "metadata": {},
   "source": [
    "## _Track Evaluation_\n",
    "\n",
    "- Running _`trkx_from_gnn.py`_ produces recostucted tracks (track candiates)\n",
    "- Running _`trkx_reco_eval.py`_ gives reconstruction evaluation: _`eff, fake rate, dup. rate, etc`_\n",
    "\n",
    "Let's perform inspection after track evaluation."
   ]
  },
  {
   "cell_type": "code",
   "execution_count": null,
   "metadata": {},
   "outputs": [],
   "source": [
    "import sys, os, glob, yaml"
   ]
  },
  {
   "cell_type": "code",
   "execution_count": null,
   "metadata": {},
   "outputs": [],
   "source": [
    "import numpy as np\n",
    "import pandas as pd\n",
    "import matplotlib as mpl\n",
    "import matplotlib.pyplot as plt\n",
    "%matplotlib inline"
   ]
  },
  {
   "cell_type": "code",
   "execution_count": null,
   "metadata": {},
   "outputs": [],
   "source": [
    "import pprint\n",
    "import seaborn as sns\n",
    "import trackml.dataset"
   ]
  },
  {
   "cell_type": "code",
   "execution_count": null,
   "metadata": {},
   "outputs": [],
   "source": [
    "import torch\n",
    "from torch_geometric.data import Data\n",
    "import itertools"
   ]
  },
  {
   "cell_type": "code",
   "execution_count": null,
   "metadata": {},
   "outputs": [],
   "source": [
    "sys.path.append('..')"
   ]
  },
  {
   "cell_type": "code",
   "execution_count": null,
   "metadata": {},
   "outputs": [],
   "source": [
    "device = 'cuda' if torch.cuda.is_available() else 'cpu'"
   ]
  },
  {
   "cell_type": "markdown",
   "metadata": {
    "tags": []
   },
   "source": [
    "## _A. Inspection of Epsilon in DBSCAN_\n",
    "\n",
    "1. Various $\\epsilon$ for DBSCAN in `trkx_from_gnn.py`\n",
    "2. Choose the best $\\epsilon$ based on _`eff, fake rate, dup. rate`_) after `trkx_reco_eval.py`\n",
    "\n",
    "**NOTE:** The $\\epsilon$ in DBSCAN is alternative to chosing a cut on the `edge_score`."
   ]
  },
  {
   "cell_type": "code",
   "execution_count": null,
   "metadata": {},
   "outputs": [],
   "source": [
    "# Muons: lists from eval_summary.txt\n",
    "e_list = [0.10, 0.15, 0.20, 0.25, 0.35, 0.45, 0.55, 0.75, 0.85, 0.95]\n",
    "eff_list = [90.86,91.68,91.68,91.58,89.84,87.58,85.83,83.57,81.52,76.28]"
   ]
  },
  {
   "cell_type": "code",
   "execution_count": null,
   "metadata": {},
   "outputs": [],
   "source": [
    "# FWP: lists from eval_summary.txt\n",
    "e_list = [0.10, 0.15, 0.20, 0.25, 0.35, 0.45, 0.55, 0.75, 0.85, 0.95]\n",
    "eff_list = [92.6518,92.3720,92.0292,91.6445,90.1861,88.7871, 87.6294,85.4050,83.3345,77.8365]\n",
    "fr_list = [-0.5733,-0.5928,-0.5446,-0.4382,-0.1309,0.0460, 0.1750,0.4189,0.7341,1.8218]\n",
    "dr_list = [7.4034,6.8437,6.2599,5.5479,3.6662,2.6337, 2.3954,2.1506,2.0922,2.1024]"
   ]
  },
  {
   "cell_type": "code",
   "execution_count": null,
   "metadata": {},
   "outputs": [],
   "source": [
    "# covert to ndarrays\n",
    "eff = np.array(eff_list)\n",
    "fr = np.array(fr_list)\n",
    "dr = np.array(dr_list)\n",
    "epsilon = np.array(e_list)"
   ]
  },
  {
   "cell_type": "raw",
   "metadata": {},
   "source": [
    "len(e_list)==len(eff_list)"
   ]
  },
  {
   "cell_type": "raw",
   "metadata": {},
   "source": [
    "for i in range(len(e_list)):\n",
    "    print(\"epsilon: \", e_list[i])"
   ]
  },
  {
   "cell_type": "code",
   "execution_count": null,
   "metadata": {},
   "outputs": [],
   "source": [
    "# plt.style.use('ggplot')\n",
    "# mpl.rcParams.update(mpl.rcParamsDefault)"
   ]
  },
  {
   "cell_type": "code",
   "execution_count": null,
   "metadata": {},
   "outputs": [],
   "source": [
    "# init subplots\n",
    "fig, ax = plt.subplots(nrows=1,ncols=1,figsize=(10,10))\n",
    "ax.plot(epsilon, eff, linestyle='-', linewidth=1.5, color='blue', label=\"Tracking Efficiency (Phys.)\")\n",
    "ax.plot(epsilon, fr, linestyle='-', linewidth=1.5, color='red', label=\"Fake Rate\")\n",
    "ax.plot(epsilon, dr, linestyle='-', linewidth=1.5, color='green', label=\"Clone Rate\")\n",
    "\n",
    "plt.axvline(x=0.10, linewidth=0.5, color='magenta')\n",
    "plt.axvline(x=0.15, linewidth=0.5, color='magenta')\n",
    "plt.axvline(x=0.20, linewidth=0.5, color='magenta')\n",
    "plt.axvline(x=0.25, linewidth=0.5, color='magenta')\n",
    "plt.axvline(x=0.3, linewidth=0.5, color='magenta')\n",
    "\n",
    "# plotting params\n",
    "# ax.set_title('Track evaluation (efficiency vs epsilon)')\n",
    "ax.set_xlabel('epsilon', fontsize=20)\n",
    "ax.set_ylabel('efficiency [%]', fontsize=20)\n",
    "ax.set_xlim(0, 1)\n",
    "ax.set_ylim(-5, 100)\n",
    "ax.grid(False)\n",
    "fig.tight_layout()\n",
    "# fig.savefig(\"epsilon_eff.png\")"
   ]
  },
  {
   "cell_type": "markdown",
   "metadata": {
    "tags": []
   },
   "source": [
    "## _B. Visualize Test Data_\n",
    "\n",
    "Inspect easy to difficult to reconstruct tracks. Choose 10 such events and use `score_cut=0.25`"
   ]
  },
  {
   "cell_type": "code",
   "execution_count": null,
   "metadata": {},
   "outputs": [],
   "source": [
    "from src.drawing import detector_layout, draw_proc_event"
   ]
  },
  {
   "cell_type": "code",
   "execution_count": null,
   "metadata": {},
   "outputs": [],
   "source": [
    "inputdir=\"../run_all/fwp_gnn_processed/pred\"\n",
    "proc_files = sorted(glob.glob(os.path.join(inputdir, \"*\")))"
   ]
  },
  {
   "cell_type": "code",
   "execution_count": null,
   "metadata": {},
   "outputs": [],
   "source": [
    "feature_data = torch.load(proc_files[0], map_location=device)"
   ]
  },
  {
   "cell_type": "code",
   "execution_count": null,
   "metadata": {},
   "outputs": [],
   "source": [
    "feature_data"
   ]
  },
  {
   "cell_type": "code",
   "execution_count": null,
   "metadata": {},
   "outputs": [],
   "source": [
    "event_id = int(os.path.basename(feature_data.event_file)[-4:])"
   ]
  },
  {
   "cell_type": "code",
   "execution_count": null,
   "metadata": {},
   "outputs": [],
   "source": [
    "event_id"
   ]
  },
  {
   "cell_type": "raw",
   "metadata": {},
   "source": [
    "mpl.rcParams.update(mpl.rcParamsDefault)"
   ]
  },
  {
   "cell_type": "raw",
   "metadata": {},
   "source": [
    "# save test event for visual inspection\n",
    "for i in range(1000):\n",
    "    feature_data = torch.load(proc_files[i], map_location=device)\n",
    "    draw_proc_event(feature_data, figsize=(8,8), save_fig=True);"
   ]
  },
  {
   "cell_type": "markdown",
   "metadata": {},
   "source": [
    "## _(C.) Post Analysis_\n",
    "\n",
    "- Read evaluation data"
   ]
  },
  {
   "cell_type": "code",
   "execution_count": null,
   "metadata": {},
   "outputs": [],
   "source": [
    "sys.path.append('..')"
   ]
  },
  {
   "cell_type": "code",
   "execution_count": null,
   "metadata": {},
   "outputs": [],
   "source": [
    "from src.drawing import detector_layout, draw_proc_event\n",
    "from src.utils_math import polar_to_cartesian"
   ]
  },
  {
   "cell_type": "code",
   "execution_count": null,
   "metadata": {},
   "outputs": [],
   "source": [
    "# select event index (glob will fetch events as a list)\n",
    "event_idx = 1"
   ]
  },
  {
   "cell_type": "markdown",
   "metadata": {
    "tags": []
   },
   "source": [
    "### _(1.) Read True Tracks_"
   ]
  },
  {
   "cell_type": "code",
   "execution_count": null,
   "metadata": {},
   "outputs": [],
   "source": [
    "# get list of true tracks (test dataset)\n",
    "inputdir=\"../run_all/fwp_gnn_processed/pred\"\n",
    "true_trkx = sorted(glob.glob(os.path.join(inputdir, \"*\")))"
   ]
  },
  {
   "cell_type": "code",
   "execution_count": null,
   "metadata": {},
   "outputs": [],
   "source": [
    "# event Data\n",
    "true_track = torch.load(true_trkx[event_idx], map_location=device)\n",
    "print(\"Length of Data: {}\".format(len(true_track)))"
   ]
  },
  {
   "cell_type": "code",
   "execution_count": null,
   "metadata": {},
   "outputs": [],
   "source": [
    "true_track"
   ]
  },
  {
   "cell_type": "code",
   "execution_count": null,
   "metadata": {},
   "outputs": [],
   "source": [
    "# hit features\n",
    "r, phi, ir = true_track.x.T"
   ]
  },
  {
   "cell_type": "code",
   "execution_count": null,
   "metadata": {},
   "outputs": [],
   "source": [
    "# spatial coordinate transform\n",
    "x, y = polar_to_cartesian(r.detach().numpy(), phi.detach().numpy())"
   ]
  },
  {
   "cell_type": "code",
   "execution_count": null,
   "metadata": {},
   "outputs": [],
   "source": [
    "# compensate scaling\n",
    "ir = ir.detach().numpy()*100"
   ]
  },
  {
   "cell_type": "code",
   "execution_count": null,
   "metadata": {},
   "outputs": [],
   "source": [
    "# plot true event\n",
    "fig, ax = detector_layout(figsize=(10,10))\n",
    "e_id = int(true_track.event_file[-10:])\n",
    "p_ids = np.unique(true_track.pid)\n",
    "\n",
    "for pid in p_ids:\n",
    "    idx = true_track.pid == pid\n",
    "    ax.plot(x[idx], y[idx], '-', linewidth=1.5)\n",
    "    ax.scatter(x[idx], y[idx], s=(ir[idx]*50), label='particle_id: {}'.format(int(pid)))\n",
    "\n",
    "ax.set_title('Azimuthal View of STT, EventID # {}'.format(e_id))\n",
    "ax.legend(fontsize=10, loc='best')\n",
    "fig.tight_layout()\n",
    "# fig.savefig(\"true_track.png\")"
   ]
  },
  {
   "cell_type": "markdown",
   "metadata": {
    "tags": []
   },
   "source": [
    "### _(2.) Read Reco Track_"
   ]
  },
  {
   "cell_type": "code",
   "execution_count": null,
   "metadata": {},
   "outputs": [],
   "source": [
    "inputdir=\"../run_all/fwp_gnn_segmenting/seg\"\n",
    "reco_trkx = sorted(glob.glob(os.path.join(inputdir, \"*\")))"
   ]
  },
  {
   "cell_type": "code",
   "execution_count": null,
   "metadata": {},
   "outputs": [],
   "source": [
    "print(\"Track Id: \", reco_trkx[event_idx])"
   ]
  },
  {
   "cell_type": "code",
   "execution_count": null,
   "metadata": {},
   "outputs": [],
   "source": [
    "reco_track = torch.load(reco_trkx[event_idx], map_location=device)\n",
    "print(\"Length of Data: {}\".format(len(reco_track)))"
   ]
  },
  {
   "cell_type": "code",
   "execution_count": null,
   "metadata": {},
   "outputs": [],
   "source": [
    "reco_track.head()"
   ]
  },
  {
   "cell_type": "code",
   "execution_count": null,
   "metadata": {},
   "outputs": [],
   "source": [
    "# plot reco event, here, (x,y,ir) comes from ture event. but idx is from reco event\n",
    "fig, ax = detector_layout(figsize=(10,10))\n",
    "e_id = e_id\n",
    "t_ids = np.unique(reco_track.track_id)\n",
    "\n",
    "for tid in t_ids:\n",
    "    idx = reco_track.track_id == tid\n",
    "    ax.plot(x[idx], y[idx], '-', linewidth=2)\n",
    "    ax.scatter(x[idx], y[idx], s=(ir[idx]*100), label='particle_id: {}'.format(tid))\n",
    "    \n",
    "ax.set_title('Azimuthal View of STT, EventID # {}'.format(e_id))\n",
    "ax.legend(fontsize=10, loc='best')\n",
    "fig.tight_layout()\n",
    "# fig.savefig(\"reco_track.png\")"
   ]
  },
  {
   "cell_type": "markdown",
   "metadata": {
    "tags": []
   },
   "source": [
    "### _(3.) Read Track Evaluation Data_"
   ]
  },
  {
   "cell_type": "code",
   "execution_count": null,
   "metadata": {},
   "outputs": [],
   "source": [
    "inputdir=\"../run_all/fwp_gnn_segmenting/eval\""
   ]
  },
  {
   "cell_type": "code",
   "execution_count": null,
   "metadata": {},
   "outputs": [],
   "source": [
    "evtid = int(os.path.split(reco_trkx[1006])[1])"
   ]
  },
  {
   "cell_type": "code",
   "execution_count": null,
   "metadata": {},
   "outputs": [],
   "source": [
    "print(\"evtid: {}\".format(evtid))"
   ]
  },
  {
   "cell_type": "code",
   "execution_count": null,
   "metadata": {},
   "outputs": [],
   "source": [
    "!./eval_reco_evt.sh $evtid"
   ]
  },
  {
   "cell_type": "code",
   "execution_count": null,
   "metadata": {},
   "outputs": [],
   "source": [
    "# path to HDF5 Store\n",
    "hdf5_path = inputdir+\"/{}_particles.h5\".format(evtid)\n",
    "print(hdf5_path)"
   ]
  },
  {
   "cell_type": "code",
   "execution_count": null,
   "metadata": {},
   "outputs": [],
   "source": [
    "df = pd.read_hdf(hdf5_path)\n",
    "print(\"Length of Data: {}\".format(len(df)))"
   ]
  },
  {
   "cell_type": "code",
   "execution_count": null,
   "metadata": {},
   "outputs": [],
   "source": [
    "df.head()"
   ]
  },
  {
   "cell_type": "code",
   "execution_count": null,
   "metadata": {},
   "outputs": [],
   "source": [
    "# Read the Summary of Evaluation\n",
    "sum_path = inputdir+\"/{}_summary.txt\".format(evtid)\n",
    "print(sum_path)"
   ]
  },
  {
   "cell_type": "code",
   "execution_count": null,
   "metadata": {},
   "outputs": [],
   "source": [
    "with open(sum_path) as f:\n",
    "    contents = f.read()\n",
    "    print(contents)"
   ]
  },
  {
   "cell_type": "code",
   "execution_count": null,
   "metadata": {},
   "outputs": [],
   "source": []
  }
 ],
 "metadata": {
  "kernelspec": {
   "display_name": "Python 3 (ipykernel)",
   "language": "python",
   "name": "python3"
  },
  "language_info": {
   "codemirror_mode": {
    "name": "ipython",
    "version": 3
   },
   "file_extension": ".py",
   "mimetype": "text/x-python",
   "name": "python",
   "nbconvert_exporter": "python",
   "pygments_lexer": "ipython3",
   "version": "3.8.12"
  }
 },
 "nbformat": 4,
 "nbformat_minor": 4
}
