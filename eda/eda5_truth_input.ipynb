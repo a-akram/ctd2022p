{
 "cells": [
  {
   "cell_type": "markdown",
   "metadata": {},
   "source": [
    "## _Building Graphs: Truth of Input Edges_"
   ]
  },
  {
   "cell_type": "code",
   "execution_count": 1,
   "metadata": {},
   "outputs": [],
   "source": [
    "import glob, os, sys, yaml"
   ]
  },
  {
   "cell_type": "code",
   "execution_count": 2,
   "metadata": {},
   "outputs": [],
   "source": [
    "import numpy as np\n",
    "import scipy as sp\n",
    "import pandas as pd\n",
    "import matplotlib.pyplot as plt\n",
    "%matplotlib inline"
   ]
  },
  {
   "cell_type": "code",
   "execution_count": 3,
   "metadata": {},
   "outputs": [],
   "source": [
    "import pprint\n",
    "import seaborn as sns\n",
    "import trackml.dataset"
   ]
  },
  {
   "cell_type": "code",
   "execution_count": 4,
   "metadata": {},
   "outputs": [],
   "source": [
    "import torch\n",
    "from torch_geometric.data import Data\n",
    "import itertools"
   ]
  },
  {
   "cell_type": "code",
   "execution_count": 5,
   "metadata": {},
   "outputs": [],
   "source": [
    "# append parent dir\n",
    "sys.path.append('..')"
   ]
  },
  {
   "cell_type": "code",
   "execution_count": 7,
   "metadata": {},
   "outputs": [],
   "source": [
    "from src import Compose_Event, Draw_Compose_Event"
   ]
  },
  {
   "cell_type": "markdown",
   "metadata": {},
   "source": [
    "### _(+) - Input Data_"
   ]
  },
  {
   "cell_type": "code",
   "execution_count": 8,
   "metadata": {},
   "outputs": [],
   "source": [
    "# mu- data (old)\n",
    "# input_dir = './data_sets/pandaml/data_3.0_7.0_GeV/'\n",
    "\n",
    "# mu+mu- data (current)\n",
    "input_dir = '../data_sets/pandaml/data_0.1_1.5_GeV/'\n",
    "\n",
    "# pbarp data (coming)\n",
    "# input_dir = os.environ['HOME']+'/current/2_deepana/pandaml/data/'"
   ]
  },
  {
   "cell_type": "code",
   "execution_count": null,
   "metadata": {},
   "outputs": [],
   "source": [
    "# Find All Input Data Files (hits.csv, cells.csv, particles.csv, truth.csv)\n",
    "all_files = os.listdir(input_dir)\n",
    "\n",
    "# Extract File Prefixes (use e.g. xxx-hits.csv)\n",
    "suffix = '-hits.csv'\n",
    "file_prefixes = sorted(os.path.join(input_dir, f.replace(suffix, ''))\n",
    "                       for f in all_files if f.endswith(suffix))"
   ]
  },
  {
   "cell_type": "code",
   "execution_count": null,
   "metadata": {},
   "outputs": [],
   "source": [
    "# file_prefixes[:10]"
   ]
  },
  {
   "cell_type": "code",
   "execution_count": null,
   "metadata": {},
   "outputs": [],
   "source": [
    "event_id = 1\n",
    "event_prefix = file_prefixes[event_id]"
   ]
  },
  {
   "cell_type": "code",
   "execution_count": null,
   "metadata": {},
   "outputs": [],
   "source": [
    "# load an event\n",
    "hits, tubes, particles, truth = trackml.dataset.load_event(event_prefix)\n",
    "\n",
    "# memory usage\n",
    "mem_bytes = (hits.memory_usage(index=True).sum() \n",
    "             + tubes.memory_usage(index=True).sum() \n",
    "             + particles.memory_usage(index=True).sum() \n",
    "             + truth.memory_usage(index=True).sum())\n",
    "\n",
    "print('{} memory usage {:.2f} MB'.format(os.path.basename(event_prefix), mem_bytes / 2**20))"
   ]
  },
  {
   "cell_type": "code",
   "execution_count": null,
   "metadata": {},
   "outputs": [],
   "source": [
    "hits.head()"
   ]
  },
  {
   "cell_type": "code",
   "execution_count": null,
   "metadata": {},
   "outputs": [],
   "source": [
    "hits.layer_id.unique()"
   ]
  },
  {
   "cell_type": "code",
   "execution_count": null,
   "metadata": {},
   "outputs": [],
   "source": [
    "tubes.head()"
   ]
  },
  {
   "cell_type": "code",
   "execution_count": null,
   "metadata": {},
   "outputs": [],
   "source": [
    "particles.head()"
   ]
  },
  {
   "cell_type": "code",
   "execution_count": null,
   "metadata": {},
   "outputs": [],
   "source": [
    "truth.head()"
   ]
  },
  {
   "cell_type": "markdown",
   "metadata": {
    "tags": []
   },
   "source": [
    "### _(+) - Build Event_\n",
    "\n",
    "- functions from _event_utils.py_"
   ]
  },
  {
   "cell_type": "code",
   "execution_count": null,
   "metadata": {},
   "outputs": [],
   "source": [
    "event = compose_event(event_prefix,skewed=False)\n",
    "draw_event(event,figsize=(10, 10));"
   ]
  },
  {
   "cell_type": "code",
   "execution_count": null,
   "metadata": {},
   "outputs": [],
   "source": [
    "event.head()"
   ]
  },
  {
   "cell_type": "code",
   "execution_count": null,
   "metadata": {},
   "outputs": [],
   "source": [
    "event.layer.unique()"
   ]
  },
  {
   "cell_type": "markdown",
   "metadata": {},
   "source": [
    "## _Build Graphs_"
   ]
  },
  {
   "cell_type": "markdown",
   "metadata": {},
   "source": [
    "### _(A) - True Edges (Layerwise)_"
   ]
  },
  {
   "cell_type": "code",
   "execution_count": null,
   "metadata": {},
   "outputs": [],
   "source": [
    "from LightningModules.Processing.utils.event_utils import get_layerwise_edges"
   ]
  },
  {
   "cell_type": "code",
   "execution_count": null,
   "metadata": {},
   "outputs": [],
   "source": [
    "# get true edges\n",
    "true_edges, hits = get_layerwise_edges(event)"
   ]
  },
  {
   "cell_type": "code",
   "execution_count": null,
   "metadata": {},
   "outputs": [],
   "source": [
    "hits.head()"
   ]
  },
  {
   "cell_type": "markdown",
   "metadata": {},
   "source": [
    "### _(B) - Input Edges (Layerwise)_"
   ]
  },
  {
   "cell_type": "code",
   "execution_count": null,
   "metadata": {},
   "outputs": [],
   "source": [
    "from LightningModules.Processing.utils.event_utils import get_input_edges"
   ]
  },
  {
   "cell_type": "code",
   "execution_count": null,
   "metadata": {},
   "outputs": [],
   "source": [
    "# get input Edges\n",
    "input_edges = get_input_edges(hits, filtering=True)"
   ]
  },
  {
   "cell_type": "code",
   "execution_count": null,
   "metadata": {},
   "outputs": [],
   "source": [
    "# input_edges ~ edge_index\n",
    "edge_index = input_edges"
   ]
  },
  {
   "cell_type": "code",
   "execution_count": null,
   "metadata": {},
   "outputs": [],
   "source": [
    "input_edges.shape"
   ]
  },
  {
   "cell_type": "code",
   "execution_count": null,
   "metadata": {},
   "outputs": [],
   "source": [
    "input_edges[0][:10]"
   ]
  },
  {
   "cell_type": "code",
   "execution_count": null,
   "metadata": {},
   "outputs": [],
   "source": [
    "input_edges[1][:10]"
   ]
  },
  {
   "cell_type": "markdown",
   "metadata": {},
   "source": [
    "### _(+) - Plotting Input Edges_"
   ]
  },
  {
   "cell_type": "code",
   "execution_count": null,
   "metadata": {},
   "outputs": [],
   "source": [
    "# plotting input_edges\n",
    "plt.close('all')\n",
    "fig = plt.figure(figsize=(10,10))\n",
    "ax = fig.add_subplot()\n",
    "\n",
    "p_ids = np.unique(event.particle_id.values)\n",
    "det = pd.read_csv(\"src/stt.csv\")\n",
    "skw = det.query('skewed==0')\n",
    "nkw = det.query('skewed==1') # one may look for +ve/-ve polarity\n",
    "    \n",
    "# detector layout\n",
    "plt.scatter(skw.x.values, skw.y.values, s=20, facecolors='none', edgecolors='lightgreen')\n",
    "plt.scatter(nkw.x.values, nkw.y.values, s=20, facecolors='none', edgecolors='coral')\n",
    "\n",
    "# particle tracks\n",
    "sel_pids, sel_pids_fr = np.unique(hits.particle_id, return_counts=True)\n",
    "\n",
    "for pid in sel_pids:\n",
    "    idx = hits.particle_id == pid\n",
    "    ax.scatter(hits[idx].x.values, hits[idx].y.values, label='particle_id: %d' %pid)\n",
    "    \n",
    "# input edges\n",
    "# for iedge in range(edge_index.shape[1]):\n",
    "for iedge in range(56):\n",
    "    pt1 = hits.iloc[input_edges[0][iedge]]\n",
    "    pt2 = hits.iloc[input_edges[1][iedge]]\n",
    "    ax.plot([pt1.x, pt2.x], [pt1.y, pt2.y], color='k', alpha=0.3, lw=1.5)\n",
    "\n",
    "ax.set_title('Event ID # %d' % event_id)\n",
    "ax.set_xlabel('x [cm]')\n",
    "ax.set_ylabel('y [cm]')\n",
    "ax.set_xlim(-40, 40)\n",
    "ax.set_ylim(-40, 40)\n",
    "ax.grid(False)\n",
    "# ax.legend(fontsize=10, loc='best')\n",
    "fig.tight_layout()\n",
    "# fig.savefig(\"input_edges.png\")"
   ]
  },
  {
   "cell_type": "markdown",
   "metadata": {},
   "source": [
    "### _(C) - Truth of Input Edges_\n",
    "\n",
    "- We have `true_edges`, `input_edges`\n",
    "- We need `y` (truth of `input_edges`)"
   ]
  },
  {
   "cell_type": "code",
   "execution_count": null,
   "metadata": {},
   "outputs": [],
   "source": [
    "import scipy as sp"
   ]
  },
  {
   "cell_type": "code",
   "execution_count": null,
   "metadata": {},
   "outputs": [],
   "source": [
    "# select a device\n",
    "device = 'cuda' if torch.cuda.is_available() else 'cpu'"
   ]
  },
  {
   "cell_type": "code",
   "execution_count": null,
   "metadata": {},
   "outputs": [],
   "source": [
    "def graph_intersection(input_graph, truth_graph):\n",
    "    \"\"\"Find the truth of 'input_graph' by using the 'truth_graph'. \n",
    "    Here input_graph:=edge_index and truth_grahp:=layerwise_true_edges.\n",
    "    See https://scipy-lectures.org/advanced/scipy_sparse/coo_matrix.html\"\"\"\n",
    "    \n",
    "    array_size = max(input_graph.max().item(), truth_graph.max().item()) + 1\n",
    "    \n",
    "    # Get Graphs\n",
    "    l1 = input_graph.cpu().numpy()\n",
    "    l2 = truth_graph.cpu().numpy()\n",
    "    \n",
    "    # Build a sparse matrix in COOrdinate format.\n",
    "    e_1 = sp.sparse.coo_matrix(\n",
    "        (np.ones(l1.shape[1]), l1), shape=(array_size, array_size)\n",
    "    ).tocsr()\n",
    "    \n",
    "    e_2 = sp.sparse.coo_matrix(\n",
    "        (np.ones(l2.shape[1]), l2), shape=(array_size, array_size)\n",
    "    ).tocsr()\n",
    "    \n",
    "    # Find Edge Intersection from e_1 (input_graph) and e_2 (truth_graph)\n",
    "    e_intersection = (e_1.multiply(e_2) - ((e_1 - e_2) > 0)).tocoo()\n",
    "    \n",
    "    # New Input Graph from Edge Intersection. Although `new_input_graph` equiv. to `input_graph`\n",
    "    # but here the `edge_index` is sorted in ascending order, in `input_graph` the edge list is \n",
    "    # listed according to geometry. It is way `edge_index` is built. It should be used along with `y`.\n",
    "    new_input_graph = (\n",
    "        torch.from_numpy(np.vstack([e_intersection.row, e_intersection.col]))\n",
    "        .long()\n",
    "        .to(device)\n",
    "    )\n",
    "    \n",
    "    # Get Truth for Input Graph\n",
    "    y = e_intersection.data > 0\n",
    "\n",
    "    return new_input_graph, y"
   ]
  },
  {
   "cell_type": "code",
   "execution_count": null,
   "metadata": {},
   "outputs": [],
   "source": [
    "# let convert input_edges, true_edges to torch tensor\n",
    "ie = torch.tensor(input_edges)\n",
    "te = torch.tensor(true_edges)"
   ]
  },
  {
   "cell_type": "code",
   "execution_count": null,
   "metadata": {},
   "outputs": [],
   "source": [
    "type(ie)"
   ]
  },
  {
   "cell_type": "code",
   "execution_count": null,
   "metadata": {},
   "outputs": [],
   "source": [
    "# returns sorted input_graph\n",
    "new_input_graph, y = graph_intersection(ie, te)"
   ]
  },
  {
   "cell_type": "code",
   "execution_count": null,
   "metadata": {},
   "outputs": [],
   "source": [
    "new_input_graph.shape"
   ]
  },
  {
   "cell_type": "code",
   "execution_count": null,
   "metadata": {},
   "outputs": [],
   "source": [
    "new_input_graph[:5]"
   ]
  },
  {
   "cell_type": "code",
   "execution_count": null,
   "metadata": {},
   "outputs": [],
   "source": [
    "y.shape"
   ]
  },
  {
   "cell_type": "code",
   "execution_count": null,
   "metadata": {},
   "outputs": [],
   "source": [
    "type(y)"
   ]
  },
  {
   "cell_type": "code",
   "execution_count": null,
   "metadata": {},
   "outputs": [],
   "source": [
    "y[:20]"
   ]
  },
  {
   "cell_type": "code",
   "execution_count": null,
   "metadata": {},
   "outputs": [],
   "source": []
  }
 ],
 "metadata": {
  "kernelspec": {
   "display_name": "Python 3 (ipykernel)",
   "language": "python",
   "name": "python3"
  },
  "language_info": {
   "codemirror_mode": {
    "name": "ipython",
    "version": 3
   },
   "file_extension": ".py",
   "mimetype": "text/x-python",
   "name": "python",
   "nbconvert_exporter": "python",
   "pygments_lexer": "ipython3",
   "version": "3.8.12"
  }
 },
 "nbformat": 4,
 "nbformat_minor": 4
}
