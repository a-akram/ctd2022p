{
 "cells": [
  {
   "cell_type": "markdown",
   "metadata": {},
   "source": [
    "## _Building Graphs: True Edges_\n",
    "\n",
    "- _layerwise edges_\n",
    "- _modulewise edges_\n",
    "- _hitwise edges (new for curly tracks)_"
   ]
  },
  {
   "cell_type": "code",
   "execution_count": null,
   "metadata": {},
   "outputs": [],
   "source": [
    "import glob, os, sys, yaml"
   ]
  },
  {
   "cell_type": "code",
   "execution_count": null,
   "metadata": {},
   "outputs": [],
   "source": [
    "import numpy as np\n",
    "import pandas as pd\n",
    "import matplotlib.pyplot as plt\n",
    "%matplotlib inline"
   ]
  },
  {
   "cell_type": "code",
   "execution_count": null,
   "metadata": {},
   "outputs": [],
   "source": [
    "import pprint\n",
    "import seaborn as sns\n",
    "import trackml.dataset"
   ]
  },
  {
   "cell_type": "code",
   "execution_count": null,
   "metadata": {},
   "outputs": [],
   "source": [
    "import torch\n",
    "from torch_geometric.data import Data\n",
    "import itertools"
   ]
  },
  {
   "cell_type": "code",
   "execution_count": null,
   "metadata": {},
   "outputs": [],
   "source": [
    "# append parent dir\n",
    "sys.path.append('..')"
   ]
  },
  {
   "cell_type": "code",
   "execution_count": null,
   "metadata": {},
   "outputs": [],
   "source": [
    "# local imports\n",
    "from src.drawing import detector_layout\n",
    "from src.utils_math import polar_to_cartesian\n",
    "from src import Compose_Event, Draw_Compose_Event"
   ]
  },
  {
   "cell_type": "markdown",
   "metadata": {},
   "source": [
    "### _(+) - Input Data_"
   ]
  },
  {
   "cell_type": "code",
   "execution_count": null,
   "metadata": {},
   "outputs": [],
   "source": [
    "# input data\n",
    "input_dir = '../train_all'"
   ]
  },
  {
   "cell_type": "code",
   "execution_count": null,
   "metadata": {},
   "outputs": [],
   "source": [
    "# Find All Input Data Files (hits.csv, cells.csv, particles.csv, truth.csv)\n",
    "all_files = os.listdir(input_dir)\n",
    "\n",
    "# Extract File Prefixes (use e.g. xxx-hits.csv)\n",
    "suffix = '-hits.csv'\n",
    "file_prefixes = sorted(os.path.join(input_dir, f.replace(suffix, ''))\n",
    "                       for f in all_files if f.endswith(suffix))\n",
    "\n",
    "print(\"Number of Files: \", len(file_prefixes))"
   ]
  },
  {
   "cell_type": "code",
   "execution_count": null,
   "metadata": {},
   "outputs": [],
   "source": [
    "event_id = 95191\n",
    "event_prefix = file_prefixes[event_id]"
   ]
  },
  {
   "cell_type": "code",
   "execution_count": null,
   "metadata": {},
   "outputs": [],
   "source": [
    "# load an event\n",
    "hits, tubes, particles, truth = trackml.dataset.load_event(event_prefix)"
   ]
  },
  {
   "cell_type": "code",
   "execution_count": null,
   "metadata": {},
   "outputs": [],
   "source": [
    "# hits.head()\n",
    "# tubes.head()\n",
    "# particles.head()\n",
    "# truth.head()"
   ]
  },
  {
   "cell_type": "markdown",
   "metadata": {
    "tags": []
   },
   "source": [
    "### _(+) - Build Event_\n",
    "\n",
    "- functions from _event_utils.py_"
   ]
  },
  {
   "cell_type": "code",
   "execution_count": null,
   "metadata": {},
   "outputs": [],
   "source": [
    "# compose event is exactly the same as select_hits()\n",
    "event = Compose_Event(event_prefix, noise=False, skewed=False)\n",
    "Draw_Compose_Event(event,figsize=(10,10));"
   ]
  },
  {
   "cell_type": "markdown",
   "metadata": {},
   "source": [
    "## _1. Layerwise True Edges_\n",
    "\n",
    "**True Graph** is the ground truth for GNN. It is built from creating edges from _`hits`_ from the same particle but in adjacent layers. For this purpose one has _`true_edges, hits = get_layerwise_edges(event)`_ function in the _`event_util.py`_."
   ]
  },
  {
   "cell_type": "code",
   "execution_count": null,
   "metadata": {},
   "outputs": [],
   "source": [
    "from LightningModules.Processing.utils.event_utils import select_hits\n",
    "from LightningModules.Processing.utils.event_utils import get_layerwise_edges"
   ]
  },
  {
   "cell_type": "code",
   "execution_count": null,
   "metadata": {},
   "outputs": [],
   "source": [
    "kwargs = {\"selection\": False}"
   ]
  },
  {
   "cell_type": "code",
   "execution_count": null,
   "metadata": {},
   "outputs": [],
   "source": [
    "# select hits\n",
    "hits = select_hits(event_file=event_prefix, noise=False, skewed=False, **kwargs)"
   ]
  },
  {
   "cell_type": "code",
   "execution_count": null,
   "metadata": {},
   "outputs": [],
   "source": [
    "# layerwise true edges & new hits dataframe\n",
    "true_edges, hits = get_layerwise_edges(hits)"
   ]
  },
  {
   "cell_type": "code",
   "execution_count": null,
   "metadata": {},
   "outputs": [],
   "source": [
    "# true_edges"
   ]
  },
  {
   "cell_type": "code",
   "execution_count": null,
   "metadata": {},
   "outputs": [],
   "source": [
    "# split as sender and recivers\n",
    "senders, receivers = true_edges"
   ]
  },
  {
   "cell_type": "code",
   "execution_count": null,
   "metadata": {},
   "outputs": [],
   "source": [
    "# gives True\n",
    "# senders == true_edges[0]"
   ]
  },
  {
   "cell_type": "code",
   "execution_count": null,
   "metadata": {},
   "outputs": [],
   "source": [
    "# gives True\n",
    "# receivers  == true_edges[1]"
   ]
  },
  {
   "cell_type": "markdown",
   "metadata": {},
   "source": [
    "### _Plotting Layerwise True Edges_\n",
    "\n",
    "- I have hit pairs in two arrays\n",
    "- Extract each pair (w/ `hit_id`) to plot\n",
    "- How to plot hit pairs for one track?"
   ]
  },
  {
   "cell_type": "code",
   "execution_count": null,
   "metadata": {},
   "outputs": [],
   "source": [
    "# lets get unique pids with freq (~ hits).\n",
    "sel_pids, sel_pids_fr = np.unique(hits.particle_id, return_counts=True)\n",
    "print(sel_pids)"
   ]
  },
  {
   "cell_type": "code",
   "execution_count": null,
   "metadata": {},
   "outputs": [],
   "source": [
    "# check size of true_edges\n",
    "size = true_edges.shape[1]\n",
    "print(size)"
   ]
  },
  {
   "cell_type": "code",
   "execution_count": null,
   "metadata": {},
   "outputs": [],
   "source": [
    "# New: Plotting true_edges\n",
    "fig, ax = detector_layout(figsize=(10,10))\n",
    "\n",
    "# particle tracks\n",
    "for pid in sel_pids:\n",
    "    idx = hits.particle_id == pid\n",
    "    ax.scatter(hits[idx].x.values, hits[idx].y.values, label='particle_id: %d' %pid)\n",
    "    \n",
    "# true edges\n",
    "for iedge in range(true_edges.shape[1]):\n",
    "    pt1 = hits.iloc[true_edges[0][iedge]]\n",
    "    pt2 = hits.iloc[true_edges[1][iedge]]\n",
    "    ax.plot([pt1.x, pt2.x], [pt1.y, pt2.y], color='k', alpha=0.3, lw=1.5)\n",
    "\n",
    "# axis params\n",
    "ax.legend(fontsize=12, loc='best')\n",
    "fig.tight_layout()\n",
    "fig.savefig(\"layerwise_true_edges.pdf\")"
   ]
  },
  {
   "cell_type": "markdown",
   "metadata": {
    "tags": []
   },
   "source": [
    "### _Disect `get_layerwise_edges(hits)` Function_"
   ]
  },
  {
   "cell_type": "code",
   "execution_count": null,
   "metadata": {},
   "outputs": [],
   "source": [
    "# select hits\n",
    "hits = select_hits(event_file=event_prefix, noise=False, skewed=False, **kwargs)"
   ]
  },
  {
   "cell_type": "code",
   "execution_count": null,
   "metadata": {},
   "outputs": [],
   "source": [
    "# Sort by increasing distance from production\n",
    "hits = hits.assign(\n",
    "        R=np.sqrt(\n",
    "            (hits.x - hits.vx) ** 2 + (hits.y - hits.vy) ** 2 + (hits.z - hits.vz) ** 2\n",
    "        )\n",
    "    )"
   ]
  },
  {
   "cell_type": "code",
   "execution_count": null,
   "metadata": {},
   "outputs": [],
   "source": [
    "# re-indexing of hits dataframe, we get two extra columns: R and index\n",
    "hits = hits.sort_values(\"R\").reset_index(drop=True).reset_index(drop=False)"
   ]
  },
  {
   "cell_type": "code",
   "execution_count": null,
   "metadata": {},
   "outputs": [],
   "source": [
    "# assign particle_id=0 as NaN\n",
    "hits.loc[hits[\"particle_id\"] == 0, \"particle_id\"] = np.nan"
   ]
  },
  {
   "cell_type": "code",
   "execution_count": null,
   "metadata": {},
   "outputs": [],
   "source": [
    "hits.head()"
   ]
  },
  {
   "cell_type": "code",
   "execution_count": null,
   "metadata": {},
   "outputs": [],
   "source": [
    "# hit_list based on particle_id and layer_id\n",
    "hit_list = (\n",
    "        hits.groupby([\"particle_id\", \"layer_id\"], sort=False)[\"index\"]\n",
    "        .agg(lambda x: list(x))\n",
    "        .groupby(level=0)\n",
    "        .agg(lambda x: list(x))\n",
    "    )"
   ]
  },
  {
   "cell_type": "code",
   "execution_count": null,
   "metadata": {},
   "outputs": [],
   "source": [
    "hit_list"
   ]
  },
  {
   "cell_type": "code",
   "execution_count": null,
   "metadata": {},
   "outputs": [],
   "source": [
    "# get first row of hit list i.e. first particle\n",
    "# row = hit_list.values[0]"
   ]
  },
  {
   "cell_type": "code",
   "execution_count": null,
   "metadata": {},
   "outputs": [],
   "source": [
    "# get elements of array from 0 to n-1 i.e. skipping the last element\n",
    "# row[0:-1]"
   ]
  },
  {
   "cell_type": "code",
   "execution_count": null,
   "metadata": {},
   "outputs": [],
   "source": [
    "# get elements of array from 1 to n i.e. skipping the first elemnet\n",
    "# row[1:]"
   ]
  },
  {
   "cell_type": "code",
   "execution_count": null,
   "metadata": {},
   "outputs": [],
   "source": [
    "# now build layerwise true edges\n",
    "true_edges = []\n",
    "for row in hit_list.values:\n",
    "    for i, j in zip(row[0:-1], row[1:]): # row is list: we take 0 to n-1 elements as row[0:-1], and 1 to n as row[1:]\n",
    "        true_edges.extend(list(itertools.product(i, j))) # extend() will add an iterable (list, set, etc) to the end of true_edges list, append() add one element to end of list."
   ]
  },
  {
   "cell_type": "code",
   "execution_count": null,
   "metadata": {},
   "outputs": [],
   "source": [
    "true_edges = np.array(true_edges).T"
   ]
  },
  {
   "cell_type": "code",
   "execution_count": null,
   "metadata": {},
   "outputs": [],
   "source": [
    "true_edges.shape"
   ]
  },
  {
   "cell_type": "markdown",
   "metadata": {},
   "source": [
    "* Now we have _true_edges_ and corresponding _hits_ (changed _i.e._ sorted due to $R$ parameter.)"
   ]
  },
  {
   "cell_type": "code",
   "execution_count": null,
   "metadata": {},
   "outputs": [],
   "source": [
    "# split as sender and recivers\n",
    "senders, receivers = true_edges"
   ]
  },
  {
   "cell_type": "code",
   "execution_count": null,
   "metadata": {},
   "outputs": [],
   "source": [
    "senders.shape, receivers.shape"
   ]
  },
  {
   "cell_type": "code",
   "execution_count": null,
   "metadata": {},
   "outputs": [],
   "source": [
    "true_edges[0].size, true_edges[1].size"
   ]
  },
  {
   "cell_type": "markdown",
   "metadata": {},
   "source": [
    "## _2. Modulewise True Edges_"
   ]
  },
  {
   "cell_type": "code",
   "execution_count": null,
   "metadata": {},
   "outputs": [],
   "source": [
    "from LightningModules.Processing.utils.event_utils import select_hits\n",
    "from LightningModules.Processing.utils.event_utils import get_modulewise_edges"
   ]
  },
  {
   "cell_type": "code",
   "execution_count": null,
   "metadata": {},
   "outputs": [],
   "source": [
    "# select hits\n",
    "hits = select_hits(event_file=event_prefix, noise=False, skewed=False, **kwargs)"
   ]
  },
  {
   "cell_type": "code",
   "execution_count": null,
   "metadata": {},
   "outputs": [],
   "source": [
    "# modulewise true edges\n",
    "true_edges = get_modulewise_edges(hits)"
   ]
  },
  {
   "cell_type": "code",
   "execution_count": null,
   "metadata": {},
   "outputs": [],
   "source": [
    "# split as sender and recivers\n",
    "senders, receivers = true_edges"
   ]
  },
  {
   "cell_type": "code",
   "execution_count": null,
   "metadata": {},
   "outputs": [],
   "source": [
    "# gives True\n",
    "# senders == true_edges[0]"
   ]
  },
  {
   "cell_type": "code",
   "execution_count": null,
   "metadata": {},
   "outputs": [],
   "source": [
    "# gives True\n",
    "# receivers  == true_edges[1]"
   ]
  },
  {
   "cell_type": "markdown",
   "metadata": {},
   "source": [
    "### _Plotting Modulewise True Edges_\n",
    "\n",
    "- I have hit pairs in two arrays\n",
    "- Extract each pair (w/ `hit_id`) to plot\n",
    "- How to plot hit pairs for one track?"
   ]
  },
  {
   "cell_type": "code",
   "execution_count": null,
   "metadata": {},
   "outputs": [],
   "source": [
    "from src.drawing import detector_layout\n",
    "from src.utils_math import polar_to_cartesian"
   ]
  },
  {
   "cell_type": "code",
   "execution_count": null,
   "metadata": {},
   "outputs": [],
   "source": [
    "# lets get unique pids with freq (~ hits).\n",
    "sel_pids, sel_pids_fr = np.unique(hits.particle_id, return_counts=True)\n",
    "print(sel_pids)"
   ]
  },
  {
   "cell_type": "code",
   "execution_count": null,
   "metadata": {},
   "outputs": [],
   "source": [
    "# check size of true_edges\n",
    "size = true_edges.shape[1]\n",
    "print(size)"
   ]
  },
  {
   "cell_type": "code",
   "execution_count": null,
   "metadata": {},
   "outputs": [],
   "source": [
    "# New: Plotting true_edges\n",
    "fig, ax = detector_layout(figsize=(11,11))\n",
    "\n",
    "# particle tracks\n",
    "for pid in sel_pids:\n",
    "    idx = hits.particle_id == pid\n",
    "    ax.scatter(hits[idx].x.values, hits[idx].y.values, label='particle_id: %d' %pid)\n",
    "    \n",
    "# true edges\n",
    "for iedge in range(true_edges.shape[1]):\n",
    "    pt1 = hits.iloc[true_edges[0][iedge]]\n",
    "    pt2 = hits.iloc[true_edges[1][iedge]]\n",
    "    ax.plot([pt1.x, pt2.x], [pt1.y, pt2.y], color='k', alpha=0.3, lw=1.5)\n",
    "\n",
    "\n",
    "# axis params\n",
    "ax.legend(fontsize=12, loc='best')\n",
    "fig.tight_layout()\n",
    "fig.savefig(\"modulewise_true_edges.pdf\")"
   ]
  },
  {
   "cell_type": "markdown",
   "metadata": {},
   "source": [
    "### _Disect `get_modulewise_edges(hits)` Function_"
   ]
  },
  {
   "cell_type": "code",
   "execution_count": null,
   "metadata": {},
   "outputs": [],
   "source": [
    "# select hits\n",
    "hits = select_hits(event_file=event_prefix, noise=False, skewed=False, **kwargs)"
   ]
  },
  {
   "cell_type": "code",
   "execution_count": null,
   "metadata": {},
   "outputs": [],
   "source": [
    "signal = hits[\n",
    "        ((~hits.particle_id.isna()) & (hits.particle_id != 0)) & (~hits.vx.isna())\n",
    "    ]"
   ]
  },
  {
   "cell_type": "code",
   "execution_count": null,
   "metadata": {},
   "outputs": [],
   "source": [
    "signal.head()"
   ]
  },
  {
   "cell_type": "code",
   "execution_count": null,
   "metadata": {},
   "outputs": [],
   "source": [
    "signal = signal.drop_duplicates(\n",
    "        subset=[\"particle_id\", \"volume_id\", \"layer_id\", \"module_id\"]\n",
    "    )"
   ]
  },
  {
   "cell_type": "code",
   "execution_count": null,
   "metadata": {},
   "outputs": [],
   "source": [
    "signal.head()"
   ]
  },
  {
   "cell_type": "code",
   "execution_count": null,
   "metadata": {},
   "outputs": [],
   "source": [
    "# Sort by increasing distance from production\n",
    "signal = signal.assign(\n",
    "    R=np.sqrt(\n",
    "        (signal.x - signal.vx) ** 2\n",
    "        + (signal.y - signal.vy) ** 2\n",
    "        + (signal.z - signal.vz) ** 2\n",
    "    )\n",
    ")"
   ]
  },
  {
   "cell_type": "code",
   "execution_count": null,
   "metadata": {},
   "outputs": [],
   "source": [
    "signal.head()"
   ]
  },
  {
   "cell_type": "code",
   "execution_count": null,
   "metadata": {},
   "outputs": [],
   "source": [
    "signal = signal.sort_values(\"R\").reset_index(drop=False)"
   ]
  },
  {
   "cell_type": "code",
   "execution_count": null,
   "metadata": {},
   "outputs": [],
   "source": [
    "signal.head()"
   ]
  },
  {
   "cell_type": "code",
   "execution_count": null,
   "metadata": {},
   "outputs": [],
   "source": [
    "# Handle re-indexing\n",
    "signal = signal.rename(columns={\"index\": \"unsorted_index\"}).reset_index(drop=False)\n",
    "signal.loc[signal[\"particle_id\"] == 0, \"particle_id\"] = np.nan"
   ]
  },
  {
   "cell_type": "code",
   "execution_count": null,
   "metadata": {},
   "outputs": [],
   "source": [
    "signal.head()"
   ]
  },
  {
   "cell_type": "code",
   "execution_count": null,
   "metadata": {},
   "outputs": [],
   "source": [
    "# Group by particle ID\n",
    "signal_list = signal.groupby([\"particle_id\"], sort=False)[\"index\"].agg(\n",
    "    lambda x: list(x)\n",
    ")"
   ]
  },
  {
   "cell_type": "code",
   "execution_count": null,
   "metadata": {},
   "outputs": [],
   "source": [
    "signal_list"
   ]
  },
  {
   "cell_type": "code",
   "execution_count": null,
   "metadata": {},
   "outputs": [],
   "source": [
    "true_edges = []\n",
    "for row in signal_list.values:\n",
    "    for i, j in zip(row[:-1], row[1:]):\n",
    "        true_edges.append([i, j])"
   ]
  },
  {
   "cell_type": "code",
   "execution_count": null,
   "metadata": {},
   "outputs": [],
   "source": [
    "true_edges = np.array(true_edges).T"
   ]
  },
  {
   "cell_type": "code",
   "execution_count": null,
   "metadata": {},
   "outputs": [],
   "source": [
    "true_edges = signal.unsorted_index.values[true_edges]"
   ]
  },
  {
   "cell_type": "code",
   "execution_count": null,
   "metadata": {},
   "outputs": [],
   "source": [
    "true_edges.shape"
   ]
  },
  {
   "cell_type": "code",
   "execution_count": null,
   "metadata": {},
   "outputs": [],
   "source": [
    "# split as sender and recivers\n",
    "senders, receivers = true_edges"
   ]
  },
  {
   "cell_type": "code",
   "execution_count": null,
   "metadata": {},
   "outputs": [],
   "source": [
    "senders.shape, receivers.shape"
   ]
  },
  {
   "cell_type": "markdown",
   "metadata": {},
   "source": [
    "## _3. New Layerwise/Modulewise Truth Graph_\n",
    "\n",
    "Ground truth constructed from layerwise or modulewise heuristics works best for high $p_t$ tracks that most likely don't re-enter the detector. However, both of these methods fails when a low $p_t$ track either re-enters the detector or simply curly inside the detector. One needs a new heuristic for such tracks. Instead of sorting hits according to $R = \\sqrt(x^2 + y^2 + z^2)$, one needs something else that can gives the order of hits along the praticle trajectory. For example,\n",
    "\n",
    "- [FAIL] use relative distace to built a truth graph, this fails similarly as of $R$\n",
    "- [FAIL] use timing info of a hit position, diffence in times of two STT hits is small to separate them within precision we have\n",
    "- sorting parameter, if there is a parameter that can be used to order the hits along a track\n",
    "    - In current data, order of occurence of `hit_id` follows the particle trajectory\n",
    "- [Success] order of occurence of `hit_id` is way to follow a curly track"
   ]
  },
  {
   "cell_type": "markdown",
   "metadata": {},
   "source": [
    "### _3.1. How to build edges based on some Euclidean distance_"
   ]
  },
  {
   "cell_type": "code",
   "execution_count": null,
   "metadata": {},
   "outputs": [],
   "source": [
    "# layerwise true edges & new hits dataframe\n",
    "true_edges, hits = get_layerwise_edges(hits)"
   ]
  },
  {
   "cell_type": "code",
   "execution_count": null,
   "metadata": {},
   "outputs": [],
   "source": [
    "# modulewise true edges\n",
    "true_edges = get_modulewise_edges(hits)"
   ]
  },
  {
   "cell_type": "code",
   "execution_count": null,
   "metadata": {},
   "outputs": [],
   "source": [
    "# Euclidean Distance of Two Hits to get a better true graph\n",
    "def distance (hits, i, j):\n",
    "    \"\"\"Hits dataframe containing all variables. i,j are two hit ids\"\"\"\n",
    "    pt1 = hits.iloc[i]\n",
    "    pt2 = hits.iloc[j]\n",
    "    d = np.sqrt((pt2.x - pt1.x)**2 + (pt2.y - pt1.y)**2)\n",
    "    \n",
    "    return d"
   ]
  },
  {
   "cell_type": "code",
   "execution_count": null,
   "metadata": {},
   "outputs": [],
   "source": [
    "# get one edge\n",
    "e = 0"
   ]
  },
  {
   "cell_type": "code",
   "execution_count": null,
   "metadata": {},
   "outputs": [],
   "source": [
    "edge = senders[e], receivers[e]"
   ]
  },
  {
   "cell_type": "code",
   "execution_count": null,
   "metadata": {},
   "outputs": [],
   "source": [
    "edge"
   ]
  },
  {
   "cell_type": "code",
   "execution_count": null,
   "metadata": {},
   "outputs": [],
   "source": [
    "# find first node\n",
    "hits.loc[hits['hit_id'] == edge[0]]"
   ]
  },
  {
   "cell_type": "code",
   "execution_count": null,
   "metadata": {},
   "outputs": [],
   "source": [
    "# find second node\n",
    "hits.loc[hits['hit_id'] == edge[1]]"
   ]
  },
  {
   "cell_type": "code",
   "execution_count": null,
   "metadata": {},
   "outputs": [],
   "source": [
    "distance(hits, edge[0], edge[1])"
   ]
  },
  {
   "cell_type": "code",
   "execution_count": null,
   "metadata": {},
   "outputs": [],
   "source": [
    "# get one edge\n",
    "e = 1"
   ]
  },
  {
   "cell_type": "code",
   "execution_count": null,
   "metadata": {},
   "outputs": [],
   "source": [
    "edge = senders[e], receivers[e]"
   ]
  },
  {
   "cell_type": "code",
   "execution_count": null,
   "metadata": {},
   "outputs": [],
   "source": [
    "mask = []\n",
    "for e in range(true_edges.shape[1]):\n",
    "    edge = senders[e], receivers[e]\n",
    "    d = distance(hits, edge[0], edge[1])\n",
    "    if d >= 10:\n",
    "        # print(\"edge: ({},{}), d: {}\".format(edge[0], edge[1], d))\n",
    "        mask.append(False)\n",
    "    else:\n",
    "        mask.append(True)"
   ]
  },
  {
   "cell_type": "code",
   "execution_count": null,
   "metadata": {},
   "outputs": [],
   "source": [
    "mask = np.array(mask)"
   ]
  },
  {
   "cell_type": "code",
   "execution_count": null,
   "metadata": {},
   "outputs": [],
   "source": [
    "np.where(mask == False)[0].shape"
   ]
  },
  {
   "cell_type": "code",
   "execution_count": null,
   "metadata": {},
   "outputs": [],
   "source": [
    "np.where(mask == True)[0].shape"
   ]
  },
  {
   "cell_type": "code",
   "execution_count": null,
   "metadata": {},
   "outputs": [],
   "source": [
    "senders, receivers = true_edges"
   ]
  },
  {
   "cell_type": "code",
   "execution_count": null,
   "metadata": {},
   "outputs": [],
   "source": [
    "senders = senders[mask]"
   ]
  },
  {
   "cell_type": "code",
   "execution_count": null,
   "metadata": {},
   "outputs": [],
   "source": [
    "receivers = receivers[mask]"
   ]
  },
  {
   "cell_type": "code",
   "execution_count": null,
   "metadata": {},
   "outputs": [],
   "source": [
    "senders.shape"
   ]
  },
  {
   "cell_type": "code",
   "execution_count": null,
   "metadata": {},
   "outputs": [],
   "source": [
    "receivers.shape"
   ]
  },
  {
   "cell_type": "code",
   "execution_count": null,
   "metadata": {},
   "outputs": [],
   "source": [
    "328+137"
   ]
  },
  {
   "cell_type": "markdown",
   "metadata": {},
   "source": [
    "- **Distance Method** doesn't work as one might remove an edge from inner layer to outer layers _i.e._ before and after the **skewed** layers gap."
   ]
  },
  {
   "cell_type": "markdown",
   "metadata": {},
   "source": [
    "### _3.2. Order of Occurence of Hits_\n",
    "\n",
    "This method works only when we don't renmae layers after excluding **skewed** layers. This method is a **success** and works similar to _get_modulewise_edges()_"
   ]
  },
  {
   "cell_type": "code",
   "execution_count": null,
   "metadata": {},
   "outputs": [],
   "source": [
    "# select hits\n",
    "hits = select_hits(event_file=event_prefix, noise=False, skewed=False, **kwargs)"
   ]
  },
  {
   "cell_type": "code",
   "execution_count": null,
   "metadata": {},
   "outputs": [],
   "source": [
    "# hits.head()"
   ]
  },
  {
   "cell_type": "markdown",
   "metadata": {},
   "source": [
    "- first attempt"
   ]
  },
  {
   "cell_type": "code",
   "execution_count": null,
   "metadata": {},
   "outputs": [],
   "source": [
    "def get_hitwise_edges(hits, column='hit_id'):\n",
    "    \"\"\"The function closely resembles get_modulewise_edges(), one\n",
    "    can introduce layerwise variant similar to get_layerwise_edges\"\"\"\n",
    "    \n",
    "    # Group by particle_id, similar to modulewise edges\n",
    "    groups = hits.groupby([\"particle_id\"])\n",
    "\n",
    "    # Create an empty list to store the edge arrays for each group\n",
    "    true_edges = []\n",
    "\n",
    "    # Iterate over each group\n",
    "    for _, group in groups:\n",
    "        \n",
    "        # Use 'hit_id' column to create true_edges, I assume order \n",
    "        # of occurence of hits is along the particle trajectory.\n",
    "        # hit_indices = group['hit_id'].values\n",
    "        \n",
    "        # Or, use index of hits to create true_edges, I assume order \n",
    "        # of occurence of hits is along the particle trajectory [KEEP it].\n",
    "        hit_indices = group.index.values\n",
    "        \n",
    "        # Create arrays for source and target nodes\n",
    "        source_nodes = hit_indices[:-1]\n",
    "        target_nodes = hit_indices[1:]\n",
    "\n",
    "        # Concatenate the source and target arrays vertically\n",
    "        edge_array = np.column_stack((source_nodes, target_nodes))\n",
    "\n",
    "        # Append the edge array to the list\n",
    "        true_edges.append(edge_array)\n",
    "\n",
    "    # Concatenate for all particle groups vertically\n",
    "    true_edges = np.vstack(true_edges)\n",
    "    return true_edges.T"
   ]
  },
  {
   "cell_type": "code",
   "execution_count": null,
   "metadata": {},
   "outputs": [],
   "source": [
    "true_edges = get_hitwise_edges(hits)"
   ]
  },
  {
   "cell_type": "code",
   "execution_count": null,
   "metadata": {},
   "outputs": [],
   "source": [
    "# true_edges"
   ]
  },
  {
   "cell_type": "code",
   "execution_count": null,
   "metadata": {},
   "outputs": [],
   "source": [
    "# New: Plotting true_edges\n",
    "fig, ax = detector_layout(figsize=(11,11))\n",
    "\n",
    "# particle tracks\n",
    "for pid in sel_pids:\n",
    "    idx = hits.particle_id == pid\n",
    "    ax.scatter(hits[idx].x.values, hits[idx].y.values, label='particle_id: %d' %pid)\n",
    "    \n",
    "# Works for True Edge Built from 'index' of 'hit_ids'\n",
    "for iedge, edge in enumerate(true_edges.T):\n",
    "    source_node = edge[0]\n",
    "    target_node = edge[1]\n",
    "    source_pos = hits.loc[source_node, ['x', 'y']].values\n",
    "    target_pos = hits.loc[target_node, ['x', 'y']].values\n",
    "    ax.plot([source_pos[0], target_pos[0]], [source_pos[1], target_pos[1]], 'k-', linewidth=0.5)\n",
    "    \n",
    "\n",
    "# axis params\n",
    "ax.legend(fontsize=12, loc='best')\n",
    "fig.tight_layout()\n",
    "fig.savefig(\"hitwise_true_edges.pdf\")"
   ]
  },
  {
   "cell_type": "markdown",
   "metadata": {},
   "source": [
    "- _follow the logic of `get_modulewise_edges()`_"
   ]
  },
  {
   "cell_type": "code",
   "execution_count": null,
   "metadata": {},
   "outputs": [],
   "source": [
    "# this works perfectly\n",
    "def get_modulewise_ordered_edges(hits):\n",
    "    \"\"\"Get modulewise (layerless) true edge list using the order\n",
    "    of occurence hits. Here 'hits' represent complete event.\"\"\"\n",
    "    \n",
    "    # Handle NaN and Null Values\n",
    "    signal = hits[\n",
    "        ((~hits.particle_id.isna()) & (hits.particle_id != 0)) & (~hits.vx.isna())\n",
    "    ]\n",
    "    signal = signal.drop_duplicates(\n",
    "        subset=[\"particle_id\", \"volume_id\", \"layer_id\", \"module_id\"]\n",
    "    )\n",
    "    \n",
    "    # Handle Indexing (Keep order of occurence)\n",
    "    signal = signal.reset_index()\n",
    "    \n",
    "    # Rename 'index' column to 'unsorted_index'\n",
    "    signal = signal.rename(columns={\"index\": \"unsorted_index\"}).reset_index(drop=False)\n",
    "\n",
    "    # Handle Particle_id 0\n",
    "    signal.loc[signal[\"particle_id\"] == 0, \"particle_id\"] = np.nan\n",
    "\n",
    "    # Group by Particle ID\n",
    "    signal_list = signal.groupby([\"particle_id\"], sort=False)[\"index\"].agg(\n",
    "        lambda x: list(x)\n",
    "    )\n",
    "\n",
    "    # Generate Edges\n",
    "    true_edges = []\n",
    "    for row in signal_list.values:\n",
    "        for i, j in zip(row[:-1], row[1:]):\n",
    "            true_edges.append([i, j])\n",
    "    \n",
    "    # Return Edges\n",
    "    true_edges = np.array(true_edges).T\n",
    "    true_edges = signal.unsorted_index.values[true_edges]\n",
    "\n",
    "    return true_edges"
   ]
  },
  {
   "cell_type": "code",
   "execution_count": null,
   "metadata": {},
   "outputs": [],
   "source": [
    "true_edges = get_modulewise_ordered_edges(hits)"
   ]
  },
  {
   "cell_type": "code",
   "execution_count": null,
   "metadata": {},
   "outputs": [],
   "source": [
    "# Simplified Plotting (Use it in future)\n",
    "fig, ax = detector_layout(figsize=(11,11))\n",
    "\n",
    "# Group the hits DataFrame by particle_id\n",
    "hits_grouped = hits.groupby('particle_id')\n",
    "\n",
    "# Plot the hit positions for each particle\n",
    "for particle_id, group in hits_grouped:\n",
    "    ax.scatter(group['x'], group['y'], label=f'particle_id={particle_id}')\n",
    "\n",
    "# Plot the true edges for each particle\n",
    "for i, (source_node, target_node) in enumerate(true_edges.T):\n",
    "    source_pos = hits.loc[source_node, ['x', 'y']].values\n",
    "    target_pos = hits.loc[target_node, ['x', 'y']].values\n",
    "    ax.plot([source_pos[0], target_pos[0]], [source_pos[1], target_pos[1]], 'k-', linewidth=0.5)\n",
    "\n",
    "    \n",
    "# axis params\n",
    "ax.legend(fontsize=12, loc='best')\n",
    "fig.tight_layout()\n",
    "fig.savefig(\"modulewise_ordered_edges.pdf\")"
   ]
  },
  {
   "cell_type": "markdown",
   "metadata": {},
   "source": [
    "- _1st attempt ot follow the logic of `get_layerwise_edges()`_"
   ]
  },
  {
   "cell_type": "raw",
   "metadata": {},
   "source": [
    "def get_layerwise_ordered_edges(hits):\n",
    "    \"\"\"Build Layerwise True Edges i.e. the True Graph. Here `hits` represent complete event.\"\"\"\n",
    "    \n",
    "    hits = hits.reset_index()\n",
    "    \n",
    "    hits.loc[hits[\"particle_id\"] == 0, \"particle_id\"] = np.nan\n",
    "    hit_list = (\n",
    "        hits.groupby([\"particle_id\", \"layer_id\"], sort=False)[\"index\"]  # ADAK: layer >> layer_id\n",
    "        .agg(lambda x: list(x))\n",
    "        .groupby(level=0)\n",
    "        .agg(lambda x: list(x))\n",
    "    )\n",
    "\n",
    "    true_edges = []\n",
    "    for row in hit_list.values:\n",
    "        for i, j in zip(row[0:-1], row[1:]):\n",
    "            true_edges.extend(list(itertools.product(i, j)))\n",
    "            \n",
    "    true_edges = np.array(true_edges).T\n",
    "    return true_edges, hits"
   ]
  },
  {
   "cell_type": "raw",
   "metadata": {},
   "source": [
    "true_edges, hits = get_layerwise_ordered_edges(hits)"
   ]
  },
  {
   "cell_type": "raw",
   "metadata": {},
   "source": [
    "# Simplified Plotting (Use it in future)\n",
    "fig, ax = detector_layout(figsize=(11,11))\n",
    "\n",
    "# Group the hits DataFrame by particle_id\n",
    "hits_grouped = hits.groupby('particle_id')\n",
    "\n",
    "# Plot the hit positions for each particle\n",
    "for particle_id, group in hits_grouped:\n",
    "    ax.scatter(group['x'], group['y'], label=f'particle_id={particle_id}')\n",
    "\n",
    "# Plot the true edges for each particle\n",
    "for i, (source_node, target_node) in enumerate(true_edges.T):\n",
    "    source_pos = hits.loc[source_node, ['x', 'y']].values\n",
    "    target_pos = hits.loc[target_node, ['x', 'y']].values\n",
    "    ax.plot([source_pos[0], target_pos[0]], [source_pos[1], target_pos[1]], 'k-', linewidth=0.5)\n",
    "\n",
    "    \n",
    "# axis params\n",
    "ax.legend(fontsize=12, loc='best')\n",
    "fig.tight_layout()\n",
    "fig.savefig(\"layerwise_ordered_true_edges.pdf\")"
   ]
  },
  {
   "cell_type": "raw",
   "metadata": {},
   "source": [
    "# Old: Plotting true_edges\n",
    "plt.close('all')\n",
    "fig = plt.figure(figsize=(10,10))\n",
    "ax = fig.add_subplot(111)\n",
    "\n",
    "det = pd.read_csv(\"../src/stt.csv\")\n",
    "skw = det.query('skewed==0')\n",
    "nkw = det.query('skewed==1') # one look for +ve/-ve polarity\n",
    "\n",
    "# detector layout\n",
    "ax.scatter(skw.x.values, skw.y.values, s=44, facecolors='none', edgecolors='lightgreen')\n",
    "ax.scatter(nkw.x.values, nkw.y.values, s=44, facecolors='none', edgecolors='coral')\n",
    "\n",
    "# particle tracks\n",
    "for pid in sel_pids:\n",
    "    idx = hits.particle_id == pid\n",
    "    ax.scatter(hits[idx].x.values, hits[idx].y.values, label='particle_id: %d' %pid)\n",
    "    \n",
    "# true edges\n",
    "for iedge in range(true_edges.shape[1]):\n",
    "    pt1 = hits.iloc[true_edges[0][iedge]]\n",
    "    pt2 = hits.iloc[true_edges[1][iedge]]\n",
    "    ax.plot([pt1.x, pt2.x], [pt1.y, pt2.y], color='k', alpha=0.3, lw=1.5)\n",
    "\n",
    "# plotting params\n",
    "ax.set_xlabel('x [cm]', fontsize=20)\n",
    "ax.set_ylabel('y [cm]', fontsize=20)\n",
    "# ax.set_title('Event ID # %d' % event_id)\n",
    "ax.set_xlim(-41, 41)\n",
    "ax.set_ylim(-41, 41)\n",
    "ax.grid(False)\n",
    "ax.legend(fontsize=11, loc='best')\n",
    "fig.tight_layout()\n",
    "# fig.savefig(\"true_edges.pdf\")"
   ]
  },
  {
   "cell_type": "code",
   "execution_count": null,
   "metadata": {},
   "outputs": [],
   "source": []
  }
 ],
 "metadata": {
  "kernelspec": {
   "display_name": "Python 3 (ipykernel)",
   "language": "python",
   "name": "python3"
  },
  "language_info": {
   "codemirror_mode": {
    "name": "ipython",
    "version": 3
   },
   "file_extension": ".py",
   "mimetype": "text/x-python",
   "name": "python",
   "nbconvert_exporter": "python",
   "pygments_lexer": "ipython3",
   "version": "3.8.12"
  }
 },
 "nbformat": 4,
 "nbformat_minor": 4
}
